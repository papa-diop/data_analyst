{
 "cells": [
  {
   "cell_type": "markdown",
   "id": "ceefb563-9ee8-40b9-9daa-c69306f8c663",
   "metadata": {},
   "source": [
    "# Amazon Web Scraper Project"
   ]
  },
  {
   "cell_type": "code",
   "execution_count": 4,
   "id": "dca04cc7-4e9f-4101-8ca0-3230c43edc44",
   "metadata": {},
   "outputs": [],
   "source": [
    "# import Libraries\n",
    "\n",
    "from bs4 import BeautifulSoup\n",
    "import requests \n",
    "import time \n",
    "import datetime\n",
    "\n",
    "import smtplib"
   ]
  },
  {
   "cell_type": "code",
   "execution_count": 248,
   "id": "73f85882-41f4-482a-8655-1f578ae05cd2",
   "metadata": {},
   "outputs": [
    {
     "name": "stdout",
     "output_type": "stream",
     "text": [
      "Data Analyst Just A Girl Who Likes Data Distressed T-Shirt\n",
      "17.99\n"
     ]
    }
   ],
   "source": [
    "# Connect to website \n",
    "\n",
    "URL = 'https://www.amazon.com/Data-Analyst-Likes-Distressed-T-Shirt/dp/B0C1TFFT83/ref=sr_1_40?crid=29UPOLK11FTAU&dib=eyJ2IjoiMSJ9.H_xD2LC8KXJb_HUr4wTcfXBduUVwbdPW5JKCGMsl55b2nH9Zj-Kd1mOClJgOwrKWMzB3A0B4cPwstk78fZZrzw1SaCKPsXmaZO8RhaZKAUrFCu-TchlG69OkrbXAbvz8njgh9ASWP65Z0alQTeucQXMTvVXQY5XqUrcuXuP-cTkk0cdvhFuylj5bgGI3YwjqJhGwe_3anMghOU1uXBtUew2KJrc_t2L5atYP_DhHTv-fwSZWew3ioG6yvOLUEp9IobJ0mqWFWXPTqvSh6TSXwpe37TPFQgLN9TdMWBAhRug.GO3KtIPtgvi-wCPMU6SYhLrZNvKBa15vNLVGh1kMADg&dib_tag=se&keywords=data%2Banalyst%2Btshirt&qid=1719527354&sprefix=data%2Banalyst%2Btshirt%2Caps%2C145&sr=8-40&customId=B0B5B47YMK&customizationToken=MC_Assembly_1%23B0B5B47YMK&th=1'\n",
    "\n",
    "headers = {\"User-Agent\": \"Mozilla/5.0 (Windows NT 10.0; Win64; x64) AppleWebKit/537.36 (KHTML, like Gecko) Chrome/78.0.3904.108 Safari/537.36\", \"Accept-Encoding\":\"gzip, deflate\", \"Accept\":\"text/html,application/xhtml+xml,application/xml;q=0.9,*/*;q=0.8\", \"DNT\":\"1\",\"Connection\":\"close\", \"Upgrade-Insecure-Requests\":\"1\"}\n",
    "\n",
    "page = requests.get(URL, headers=headers)\n",
    "\n",
    "soup1 = BeautifulSoup(page.content, \"html.parser\")\n",
    "\n",
    "soup2 = BeautifulSoup(soup1.prettify(), \"html.parser\")\n",
    "\n",
    "title = soup2.find(id='productTitle').text.strip()\n",
    "print(title)\n",
    "\n",
    "price=soup2.find(id=\"corePrice_desktop\").find_all('span')[1].text.strip()[1:]\n",
    "print(price)"
   ]
  },
  {
   "cell_type": "code",
   "execution_count": 256,
   "id": "8a807f6e-8a5c-40f7-94fa-046c43ea2571",
   "metadata": {},
   "outputs": [
    {
     "name": "stdout",
     "output_type": "stream",
     "text": [
      "2024-06-28\n"
     ]
    }
   ],
   "source": [
    "# Create a Timestamp for your output to track when data was collected\n",
    "import datetime\n",
    "\n",
    "today = datetime.date.today()\n",
    "print(today)"
   ]
  },
  {
   "cell_type": "code",
   "execution_count": 317,
   "id": "4cd059c7-a8fa-4a60-a2b9-4296792c9d52",
   "metadata": {},
   "outputs": [],
   "source": [
    "#Create CSV and write headers and data into the file\n",
    "import csv \n",
    "\n",
    "header = ['Title','Price','Date']\n",
    "data = [title, price,today]\n",
    "\n",
    "with open (\"AmazonWebScrapperDataset.csv\", 'w', newline='', encoding='UTF8') as f:\n",
    "    writer = csv.writer(f)\n",
    "    writer.writerow(header)\n",
    "    writer.writerow(data)"
   ]
  },
  {
   "cell_type": "code",
   "execution_count": 329,
   "id": "90f03de9-6e33-4286-9c5d-b9375c6df5fe",
   "metadata": {},
   "outputs": [
    {
     "name": "stdout",
     "output_type": "stream",
     "text": [
      "                                               Title  Price        Date\n",
      "0  Data Analyst Just A Girl Who Likes Data Distre...  17.99  2024-06-28\n",
      "1  Data Analyst Just A Girl Who Likes Data Distre...  17.99  2024-06-28\n",
      "2  Data Analyst Just A Girl Who Likes Data Distre...  17.99  2024-06-28\n",
      "3  Data Analyst Just A Girl Who Likes Data Distre...  17.99  2024-06-28\n",
      "4  Data Analyst Just A Girl Who Likes Data Distre...  17.99  2024-06-28\n"
     ]
    }
   ],
   "source": [
    "import pandas as pd \n",
    "\n",
    "df = pd.read_csv(r\"C:\\Users\\LENOVO\\Documents\\Data Analyst\\Python\\Pandas\\Amazon web Scappring\\AmazonWebScrapperDataset.csv\")\n",
    "print(df)\n"
   ]
  },
  {
   "cell_type": "code",
   "execution_count": 327,
   "id": "b8d41d6c-c25f-44a6-bea8-af7e5e5bb3f0",
   "metadata": {},
   "outputs": [],
   "source": [
    "#Append data to the csv\n",
    "with open (\"AmazonWebScrapperDataset.csv\", 'a+', newline='', encoding='UTF8') as f:\n",
    "    writer = csv.writer(f)\n",
    "    writer.writerow(data)"
   ]
  },
  {
   "cell_type": "code",
   "execution_count": null,
   "id": "0fee1d60-79a3-4873-91af-b46e51082dfd",
   "metadata": {},
   "outputs": [],
   "source": [
    "#Combine all of the above code into one function\n",
    "def check_price():\n",
    "    URL = 'https://www.amazon.com/Data-Analyst-Likes-Distressed-T-Shirt/dp/B0C1TFFT83/ref=sr_1_40?crid=29UPOLK11FTAU&dib=eyJ2IjoiMSJ9.H_xD2LC8KXJb_HUr4wTcfXBduUVwbdPW5JKCGMsl55b2nH9Zj-Kd1mOClJgOwrKWMzB3A0B4cPwstk78fZZrzw1SaCKPsXmaZO8RhaZKAUrFCu-TchlG69OkrbXAbvz8njgh9ASWP65Z0alQTeucQXMTvVXQY5XqUrcuXuP-cTkk0cdvhFuylj5bgGI3YwjqJhGwe_3anMghOU1uXBtUew2KJrc_t2L5atYP_DhHTv-fwSZWew3ioG6yvOLUEp9IobJ0mqWFWXPTqvSh6TSXwpe37TPFQgLN9TdMWBAhRug.GO3KtIPtgvi-wCPMU6SYhLrZNvKBa15vNLVGh1kMADg&dib_tag=se&keywords=data%2Banalyst%2Btshirt&qid=1719527354&sprefix=data%2Banalyst%2Btshirt%2Caps%2C145&sr=8-40&customId=B0B5B47YMK&customizationToken=MC_Assembly_1%23B0B5B47YMK&th=1'\n",
    "\n",
    "    headers = {\"User-Agent\": \"Mozilla/5.0 (Windows NT 10.0; Win64; x64) AppleWebKit/537.36 (KHTML, like Gecko) Chrome/78.0.3904.108 Safari/537.36\", \"Accept-Encoding\":\"gzip, deflate\", \"Accept\":\"text/html,application/xhtml+xml,application/xml;q=0.9,*/*;q=0.8\", \"DNT\":\"1\",\"Connection\":\"close\", \"Upgrade-Insecure-Requests\":\"1\"}\n",
    "\n",
    "    page = requests.get(URL, headers=headers)\n",
    "\n",
    "    soup1 = BeautifulSoup(page.content, \"html.parser\")\n",
    "\n",
    "    soup2 = BeautifulSoup(soup1.prettify(), \"html.parser\")\n",
    "\n",
    "    title = soup2.find(id='productTitle').text.strip()\n",
    "    price=soup2.find(id=\"corePrice_desktop\").find_all('span')[1].text.strip()[1:]\n",
    "    \n",
    "    import datetime\n",
    "\n",
    "    today = datetime.date.today()\n",
    "\n",
    "    import csv \n",
    "\n",
    "    header = ['Title','Price','Date']\n",
    "    data = [title, price,today]\n",
    "\n",
    "    with open (\"AmazonWebScrapperDataset.csv\", 'a+', newline='', encoding='UTF8') as f:\n",
    "        writer = csv.writer(f)\n",
    "        writer.writerow(data)\n",
    "\n",
    "    if(price<14):\n",
    "        send_mail()"
   ]
  },
  {
   "cell_type": "code",
   "execution_count": null,
   "id": "c4a07386-ed38-46a3-824e-4921e568b5ff",
   "metadata": {},
   "outputs": [],
   "source": [
    "## Runs check_price after a set time and inputs data into your CSV\n",
    "while(True):\n",
    "    check_price()\n",
    "    time.sleep(86400)"
   ]
  },
  {
   "cell_type": "code",
   "execution_count": 360,
   "id": "eaec5c72-b369-4eac-b01b-623624b76874",
   "metadata": {},
   "outputs": [
    {
     "name": "stdout",
     "output_type": "stream",
     "text": [
      "                                                Title  Price        Date\n",
      "0   Data Analyst Just A Girl Who Likes Data Distre...  17.99  2024-06-28\n",
      "1   Data Analyst Just A Girl Who Likes Data Distre...  17.99  2024-06-28\n",
      "2   Data Analyst Just A Girl Who Likes Data Distre...  17.99  2024-06-28\n",
      "3   Data Analyst Just A Girl Who Likes Data Distre...  17.99  2024-06-28\n",
      "4   Data Analyst Just A Girl Who Likes Data Distre...  17.99  2024-06-28\n",
      "5   Data Analyst Just A Girl Who Likes Data Distre...  17.99  2024-06-28\n",
      "6   Data Analyst Just A Girl Who Likes Data Distre...  17.99  2024-06-28\n",
      "7   Data Analyst Just A Girl Who Likes Data Distre...  17.99  2024-06-28\n",
      "8   Data Analyst Just A Girl Who Likes Data Distre...  17.99  2024-06-28\n",
      "9   Data Analyst Just A Girl Who Likes Data Distre...  17.99  2024-06-28\n",
      "10  Data Analyst Just A Girl Who Likes Data Distre...  17.99  2024-06-28\n",
      "11  Data Analyst Just A Girl Who Likes Data Distre...  17.99  2024-06-28\n",
      "12  Data Analyst Just A Girl Who Likes Data Distre...  17.99  2024-06-28\n",
      "13  Data Analyst Just A Girl Who Likes Data Distre...  17.99  2024-06-28\n",
      "14  Data Analyst Just A Girl Who Likes Data Distre...  17.99  2024-06-28\n",
      "15  Data Analyst Just A Girl Who Likes Data Distre...  17.99  2024-06-28\n",
      "16  Data Analyst Just A Girl Who Likes Data Distre...  17.99  2024-06-28\n",
      "17  Data Analyst Just A Girl Who Likes Data Distre...  17.99  2024-06-28\n",
      "18  Data Analyst Just A Girl Who Likes Data Distre...  17.99  2024-06-28\n",
      "19  Data Analyst Just A Girl Who Likes Data Distre...  17.99  2024-06-28\n"
     ]
    }
   ],
   "source": [
    "import pandas as pd \n",
    "\n",
    "df = pd.read_csv(\"AmazonWebScrapperDataset.csv\")\n",
    "\n",
    "print(df)"
   ]
  },
  {
   "cell_type": "code",
   "execution_count": null,
   "id": "4224f9bb-cf80-40c4-ae78-e59dfb4c7909",
   "metadata": {},
   "outputs": [],
   "source": [
    "# If uou want to try sending yourself an email (just for fun) when a price hits below a certain level you can try it\n",
    "# out with this script\n",
    "\n",
    "def send_mail():\n",
    "    server = smtplib.SMTP_SSL('smtp.gmail.com',465)\n",
    "    server.ehlo()\n",
    "    #server.starttls()\n",
    "    server.ehlo()\n",
    "    server.login('amdinho97@gmail.com','xxxxxxxxxxxxxx')\n",
    "    \n",
    "    subject = \"The Shirt you want is below $15! Now is your chance to buy!\"\n",
    "    body = \"Alex, This is the moment we have been waiting for. Now is your chance to pick up the shirt of your dreams. Don't mess it up! Link here: https://www.amazon.com/Funny-Data-Systems-Business-Analyst/dp/B07FNW9FGJ/ref=sr_1_3?dchild=1&keywords=data+analyst+tshirt&qid=1626655184&sr=8-3\"\n",
    "   \n",
    "    msg = f\"Subject: {subject}\\n\\n{body}\"\n",
    "    \n",
    "    server.sendmail(\n",
    "        'amdinho97@gmail.com',\n",
    "        msg\n",
    "     \n",
    "    )"
   ]
  }
 ],
 "metadata": {
  "kernelspec": {
   "display_name": "Python 3 (ipykernel)",
   "language": "python",
   "name": "python3"
  },
  "language_info": {
   "codemirror_mode": {
    "name": "ipython",
    "version": 3
   },
   "file_extension": ".py",
   "mimetype": "text/x-python",
   "name": "python",
   "nbconvert_exporter": "python",
   "pygments_lexer": "ipython3",
   "version": "3.11.7"
  }
 },
 "nbformat": 4,
 "nbformat_minor": 5
}
